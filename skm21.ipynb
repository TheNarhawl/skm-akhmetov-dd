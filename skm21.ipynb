{
 "cells": [
  {
   "attachments": {},
   "cell_type": "markdown",
   "metadata": {},
   "source": [
    "# Задание 21 - Уравнение Кеплера\n",
    "[Каханер–Моулер–Нэш]\n",
    "Уравнение Кеплера для вычисления орбиты имеет вид$$\n",
    "M=E-\\varepsilon\\sin E,\n",
    "$$где $M$ – средняя аномалия, $E$ – эксцентрическая аномалия, $\\varepsilon$ – эксцентриситет орбиты. Пусть $M=24.851090$, $\\varepsilon=0.1$.\n",
    "\n",
    "1. Изобразите полученную орбиту.\n",
    "2. С помощью функции scipy.optimize.brentq найдите $E$.\n",
    "3. Вычислите $E$ с помощью формулы\n",
    "$$\n",
    "  E = M + 2\\sum_{m=1}^{\\infty} \\frac{1}{m} J_m(m\\varepsilon) \\sin(mM),\n",
    "$$\n",
    "где $J_m(x)$ – функция Бесселя $1$-го рода порядка $m$.\n",
    "\n",
    "4. Найдите $E$ по предыдущей формуле, используя равенство  \n",
    "$$\n",
    "  J_m(m\\varepsilon) = \\sum_{n=0}^{\\infty} \\frac{(-1)^n (m\\varepsilon/2)^{2n+m}}{n!(m+n)!}.\n",
    "$$\n",
    "5. Проведите сравнение вычислительных затрат и точности результатов, полученных каждым из трех способов.\n"
   ]
  },
  {
   "cell_type": "markdown",
   "metadata": {},
   "source": [
    "# Построение орбиты\n",
    "\n",
    "Эллипс — это сплюснутая на величину $\\sqrt{1-e^2}$ окружность. Здесь e — эксцентриситет. \n",
    "Направим ось x от Солнца (начала координат), которое находится в одном из фокусов эллипса, в сторону перигелия по линии апсид (прямой, соединяющей перицентр с апоцентром).\n",
    "Абсцисса небесного тела в точке $P$ будет равна $x=acos(E)-ae$ ордината будет, соответственно, равна $y=a\\sin(E)\\sqrt{1-e^2}$, где a — большая полуось, а Е - эксцентрическая аномалия.\n",
    "Таким образом, получаем\n",
    "$x=r\\cos(v)=a(\\cos(E)-e)$ ; \n",
    "$y=r\\sin(v)=a\\sin(E)\\sqrt{1-e^2}$"
   ]
  },
  {
   "attachments": {},
   "cell_type": "markdown",
   "metadata": {},
   "source": [
    "# Шаг 1. Построим орбиту:"
   ]
  },
  {
   "attachments": {},
   "cell_type": "markdown",
   "metadata": {},
   "source": [
    "Для начала построим эллиптическую орбиту с помощью библиотеки matplotlib.pyplot рассчитав координаты точек x и y эллипса орбиты."
   ]
  },
  {
   "cell_type": "code",
   "execution_count": 21,
   "metadata": {},
   "outputs": [
    {
     "data": {
      "image/png": "[encoded data removed]",
      "text/plain": [
       "<Figure size 640x480 with 1 Axes>"
      ]
     },
     "metadata": {},
     "output_type": "display_data"
    }
   ],
   "source": [
    "from numpy import*\n",
    "from matplotlib.pyplot import*\n",
    "import matplotlib.pyplot as plt\n",
    "from math import*\n",
    "M=24.851090\n",
    "e=0.1\n",
    "a=1\n",
    "N=720\n",
    "E=[i for i in arange(0,N)]\n",
    "x=array([a*(cos(E1)-e) for E1 in E])\n",
    "y=array([a*sin(E1)*sqrt(1-e**2) for E1 in E])\n",
    "angle = arctan2(x, y)\n",
    "order = argsort(angle)\n",
    "plot(0,0,'.')\n",
    "plot(x[order], y[order])\n",
    "ax = plt.gca()\n",
    "ax.spines.left.set_position(('axes', 0.547))\n",
    "ax.spines['bottom'].set_position('center')\n",
    "ax.spines['top'].set_visible(False)\n",
    "ax.spines['right'].set_visible(False)\n",
    "pass"
   ]
  },
  {
   "attachments": {},
   "cell_type": "markdown",
   "metadata": {},
   "source": [
    "*время выполнения 0.4с*"
   ]
  },
  {
   "attachments": {},
   "cell_type": "markdown",
   "metadata": {},
   "source": [
    "# Шаг 2. Найдём E с помощью scipy.optimize.brentq:"
   ]
  },
  {
   "cell_type": "code",
   "execution_count": 2,
   "metadata": {
    "scrolled": true
   },
   "outputs": [
    {
     "name": "stdout",
     "output_type": "stream",
     "text": [
      "24.820357182542914\n"
     ]
    }
   ],
   "source": [
    "from scipy import optimize, special\n",
    "def f(E):\n",
    "    return E-e*sin(E)-M\n",
    "k=optimize.brentq(f,0,25)\n",
    "print(k)"
   ]
  },
  {
   "attachments": {},
   "cell_type": "markdown",
   "metadata": {},
   "source": [
    "*время выполнения 2.4с*"
   ]
  },
  {
   "attachments": {},
   "cell_type": "markdown",
   "metadata": {},
   "source": [
    "# Шаг 3. Найдём E с помощью формулы:\n",
    "$$\n",
    " E = M + 2\\sum_{m=1}^{\\infty} \\frac{1}{m} J_m(m\\varepsilon) \\sin(mM),\n",
    "$$\n",
    "           где $J_m(x)$ – функция Бесселя $1$-го рода порядка $m$."
   ]
  },
  {
   "cell_type": "code",
   "execution_count": 3,
   "metadata": {
    "scrolled": true
   },
   "outputs": [
    {
     "name": "stdout",
     "output_type": "stream",
     "text": [
      "24.822653088245808\n"
     ]
    }
   ],
   "source": [
    "E = list()\n",
    "for i in range(1, 10):\n",
    "    E.append(1/i*special.jv(i, e)*sin(i*M))\n",
    "print(M + 2*sum(E))"
   ]
  },
  {
   "attachments": {},
   "cell_type": "markdown",
   "metadata": {},
   "source": [
    "*время выполнения 0.1с*"
   ]
  },
  {
   "attachments": {},
   "cell_type": "markdown",
   "metadata": {},
   "source": [
    "# Шаг 4. Найдём E с помощью предыдущей формулы и равенства:\n",
    " $$\n",
    " J_m(m\\varepsilon) = \\sum_{n=0}^{\\infty} \\frac{(-1)^n (m\\varepsilon/2)^{2n+m}}{n!(m+n)!}.\n",
    " $$\n",
    "    \n",
    "\n"
   ]
  },
  {
   "cell_type": "code",
   "execution_count": 4,
   "metadata": {
    "scrolled": true
   },
   "outputs": [
    {
     "name": "stdout",
     "output_type": "stream",
     "text": [
      "24.820357182559754\n"
     ]
    }
   ],
   "source": [
    "E1 = list()\n",
    "for i in range(1, 10):\n",
    "    Bessel = sum([((-1)**j*((i*e)/2)**(2*j+i))/(factorial(j)*factorial(i+j)) for j in arange(10)])\n",
    "    E1.append(1/i*Bessel*sin(i*M))\n",
    "print(M + 2*sum(E1))"
   ]
  },
  {
   "attachments": {},
   "cell_type": "markdown",
   "metadata": {},
   "source": [
    "*время выполнения 0.1с*"
   ]
  },
  {
   "attachments": {},
   "cell_type": "markdown",
   "metadata": {},
   "source": [
    "# Вывод\n",
    "Результат, полученный с помощью функции scipy.optimize.brentq близок по результату к формуле в шагу 4, но занимает намного больше времени и, соответственно, вычислительных ресурсов. Формула в шаге 2 требует сравнительно мало вычичислительных ресурсов, быстро считается, как и в шаге 4, и выдаёт результат в пределах погрешности."
   ]
  }
 ],
 "metadata": {
  "kernelspec": {
   "display_name": "Python 3",
   "language": "python",
   "name": "python3"
  },
  "language_info": {
   "codemirror_mode": {
    "name": "ipython",
    "version": 3
   },
   "file_extension": ".py",
   "mimetype": "text/x-python",
   "name": "python",
   "nbconvert_exporter": "python",
   "pygments_lexer": "ipython3",
   "version": "3.11.0"
  }
 },
 "nbformat": 4,
 "nbformat_minor": 4
}
